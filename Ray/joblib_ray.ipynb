{
 "cells": [
  {
   "cell_type": "markdown",
   "metadata": {},
   "source": [
    "# Joblib + Ray\n",
    "(see [bottom](https://joblib.readthedocs.io/en/latest/parallel.html))\n",
    "\n",
    "Short recipe to setup a Ray cluster on SLURM and interact with it using Joblib.\n",
    "\n",
    "- start a \"head\" with the command ```ray start --head --port=6379 --num-cpus 1 --block```\n",
    "- submit as many ```submit_worker.sub``` as many workers we want, taking care of changing the parameter inside according to the ip address of the head\n",
    "- run the cells"
   ]
  },
  {
   "cell_type": "code",
   "execution_count": null,
   "metadata": {},
   "outputs": [],
   "source": [
    "import ray\n",
    "from ray.util.joblib import register_ray"
   ]
  },
  {
   "cell_type": "code",
   "execution_count": null,
   "metadata": {},
   "outputs": [],
   "source": [
    "from joblib import parallel_backend, Parallel, delayed"
   ]
  },
  {
   "cell_type": "code",
   "execution_count": null,
   "metadata": {},
   "outputs": [],
   "source": [
    "from tasks import dummy_function"
   ]
  },
  {
   "cell_type": "code",
   "execution_count": null,
   "metadata": {},
   "outputs": [],
   "source": [
    "ray.init(address='192.33.123.23:6379')"
   ]
  },
  {
   "cell_type": "code",
   "execution_count": null,
   "metadata": {},
   "outputs": [],
   "source": [
    "register_ray()"
   ]
  },
  {
   "cell_type": "code",
   "execution_count": null,
   "metadata": {},
   "outputs": [],
   "source": [
    "nodes = ray.nodes()\n",
    "alive_nodes = [node for node in nodes if node['Alive'] is True]\n",
    "\n",
    "print('Nodes: {}\\nAlive: {}'.format(len(nodes), len(alive_nodes)))"
   ]
  },
  {
   "cell_type": "code",
   "execution_count": null,
   "metadata": {},
   "outputs": [],
   "source": [
    "%%time\n",
    "# Code incapsulated in parallel_backend is scheduled and waited for\n",
    "# As can be seen in the dashboard, this is correctly spread over the cluster\n",
    "\n",
    "with parallel_backend('ray'):\n",
    "    results = Parallel()(delayed(dummy_function)(n) for n in range(6))"
   ]
  },
  {
   "cell_type": "code",
   "execution_count": null,
   "metadata": {},
   "outputs": [],
   "source": [
    "results"
   ]
  },
  {
   "cell_type": "code",
   "execution_count": null,
   "metadata": {},
   "outputs": [],
   "source": [
    "%%time\n",
    "# This isn't parallelized over the cluster\n",
    "\n",
    "results = Parallel()(delayed(dummy_function)(n) for n in range(6))"
   ]
  },
  {
   "cell_type": "code",
   "execution_count": null,
   "metadata": {},
   "outputs": [],
   "source": [
    "%%time\n",
    "# This is correctly parallelized LOCALLY\n",
    "\n",
    "results = Parallel(n_jobs=6)(delayed(dummy_function)(n) for n in range(6))"
   ]
  },
  {
   "cell_type": "code",
   "execution_count": null,
   "metadata": {},
   "outputs": [],
   "source": [
    "def nested_function(arg):\n",
    "    with parallel_backend('ray'):\n",
    "        results = Parallel()(delayed(dummy_function)(n) for n in range(arg))\n",
    "    return results\n",
    "\n",
    "def simple_nested_function(arg):\n",
    "    return Parallel(n_jobs=arg)(delayed(dummy_function)(n) for n in range(arg))\n",
    "\n",
    "def simple_nested_function_no_arg(arg):\n",
    "    return Parallel()(delayed(dummy_function)(n) for n in range(arg))"
   ]
  },
  {
   "cell_type": "code",
   "execution_count": null,
   "metadata": {},
   "outputs": [],
   "source": [
    "%%time\n",
    "\n",
    "with parallel_backend('ray'):\n",
    "    results = Parallel()(delayed(simple_nested_function_no_arg)(n) for n in [4, 2])"
   ]
  },
  {
   "cell_type": "code",
   "execution_count": null,
   "metadata": {},
   "outputs": [],
   "source": [
    "results"
   ]
  }
 ],
 "metadata": {
  "kernelspec": {
   "display_name": "Python 3",
   "language": "python",
   "name": "python3"
  },
  "language_info": {
   "codemirror_mode": {
    "name": "ipython",
    "version": 3
   },
   "file_extension": ".py",
   "mimetype": "text/x-python",
   "name": "python",
   "nbconvert_exporter": "python",
   "pygments_lexer": "ipython3",
   "version": "3.7.8"
  }
 },
 "nbformat": 4,
 "nbformat_minor": 4
}
